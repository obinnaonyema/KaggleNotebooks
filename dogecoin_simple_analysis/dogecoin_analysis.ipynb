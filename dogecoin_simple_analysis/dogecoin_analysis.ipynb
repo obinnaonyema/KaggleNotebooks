{
  "nbformat": 4,
  "nbformat_minor": 0,
  "metadata": {
    "colab": {
      "name": "dogecoin_analysis.ipynb",
      "provenance": []
    },
    "kernelspec": {
      "name": "python3",
      "display_name": "Python 3"
    },
    "language_info": {
      "name": "python"
    }
  },
  "cells": [
    {
      "cell_type": "markdown",
      "metadata": {
        "id": "BKLb10d4U-_G"
      },
      "source": [
        "The objective of the analysis is to answer the following questions\n",
        "\n",
        "* What was the day when Dogecoin was on lowest price?\n",
        "* What was the day when Dogecoin was on highest price?\n",
        "* Correlation between various attributes in dataset.\n",
        "* Yearwise mean price"
      ]
    },
    {
      "cell_type": "code",
      "metadata": {
        "id": "lAMccmoRStvO"
      },
      "source": [
        "import numpy as np # linear algebra\n",
        "import pandas as pd # data processing, CSV file I/O (e.g. pd.read_csv)\n",
        "\n",
        "#data visualization\n",
        "import matplotlib.pyplot as plt\n",
        "import seaborn as sns\n",
        "%matplotlib inline\n",
        "\n",
        "import warnings \n",
        "warnings.filterwarnings('ignore')"
      ],
      "execution_count": 2,
      "outputs": []
    },
    {
      "cell_type": "code",
      "metadata": {
        "colab": {
          "base_uri": "https://localhost:8080/",
          "height": 204
        },
        "id": "nwR-gEa_TYPZ",
        "outputId": "13ce2956-87d3-40a3-b638-486051679d4b"
      },
      "source": [
        "doge = pd.read_csv('Dogecoin Historical Data.csv')\n",
        "doge.head()"
      ],
      "execution_count": 3,
      "outputs": [
        {
          "output_type": "execute_result",
          "data": {
            "text/html": [
              "<div>\n",
              "<style scoped>\n",
              "    .dataframe tbody tr th:only-of-type {\n",
              "        vertical-align: middle;\n",
              "    }\n",
              "\n",
              "    .dataframe tbody tr th {\n",
              "        vertical-align: top;\n",
              "    }\n",
              "\n",
              "    .dataframe thead th {\n",
              "        text-align: right;\n",
              "    }\n",
              "</style>\n",
              "<table border=\"1\" class=\"dataframe\">\n",
              "  <thead>\n",
              "    <tr style=\"text-align: right;\">\n",
              "      <th></th>\n",
              "      <th>Date</th>\n",
              "      <th>Price</th>\n",
              "      <th>Open</th>\n",
              "      <th>High</th>\n",
              "      <th>Low</th>\n",
              "      <th>Vol.</th>\n",
              "      <th>Change %</th>\n",
              "    </tr>\n",
              "  </thead>\n",
              "  <tbody>\n",
              "    <tr>\n",
              "      <th>0</th>\n",
              "      <td>May 07, 2021</td>\n",
              "      <td>0.573179</td>\n",
              "      <td>0.579819</td>\n",
              "      <td>0.598133</td>\n",
              "      <td>0.519357</td>\n",
              "      <td>14.72B</td>\n",
              "      <td>-1.15%</td>\n",
              "    </tr>\n",
              "    <tr>\n",
              "      <th>1</th>\n",
              "      <td>May 06, 2021</td>\n",
              "      <td>0.579839</td>\n",
              "      <td>0.653501</td>\n",
              "      <td>0.663006</td>\n",
              "      <td>0.541526</td>\n",
              "      <td>12.97B</td>\n",
              "      <td>-11.52%</td>\n",
              "    </tr>\n",
              "    <tr>\n",
              "      <th>2</th>\n",
              "      <td>May 05, 2021</td>\n",
              "      <td>0.655355</td>\n",
              "      <td>0.559521</td>\n",
              "      <td>0.693839</td>\n",
              "      <td>0.536232</td>\n",
              "      <td>28.03B</td>\n",
              "      <td>17.24%</td>\n",
              "    </tr>\n",
              "    <tr>\n",
              "      <th>3</th>\n",
              "      <td>May 04, 2021</td>\n",
              "      <td>0.559005</td>\n",
              "      <td>0.438349</td>\n",
              "      <td>0.594039</td>\n",
              "      <td>0.398416</td>\n",
              "      <td>31.90B</td>\n",
              "      <td>27.56%</td>\n",
              "    </tr>\n",
              "    <tr>\n",
              "      <th>4</th>\n",
              "      <td>May 03, 2021</td>\n",
              "      <td>0.438244</td>\n",
              "      <td>0.372467</td>\n",
              "      <td>0.443181</td>\n",
              "      <td>0.372467</td>\n",
              "      <td>9.97B</td>\n",
              "      <td>17.68%</td>\n",
              "    </tr>\n",
              "  </tbody>\n",
              "</table>\n",
              "</div>"
            ],
            "text/plain": [
              "           Date     Price      Open      High       Low    Vol. Change %\n",
              "0  May 07, 2021  0.573179  0.579819  0.598133  0.519357  14.72B   -1.15%\n",
              "1  May 06, 2021  0.579839  0.653501  0.663006  0.541526  12.97B  -11.52%\n",
              "2  May 05, 2021  0.655355  0.559521  0.693839  0.536232  28.03B   17.24%\n",
              "3  May 04, 2021  0.559005  0.438349  0.594039  0.398416  31.90B   27.56%\n",
              "4  May 03, 2021  0.438244  0.372467  0.443181  0.372467   9.97B   17.68%"
            ]
          },
          "metadata": {
            "tags": []
          },
          "execution_count": 3
        }
      ]
    },
    {
      "cell_type": "code",
      "metadata": {
        "colab": {
          "base_uri": "https://localhost:8080/"
        },
        "id": "XtMO5r5XTjQQ",
        "outputId": "b5f84371-0cd6-4ae2-c4c0-71b5c003150a"
      },
      "source": [
        "doge.info()"
      ],
      "execution_count": 7,
      "outputs": [
        {
          "output_type": "stream",
          "text": [
            "<class 'pandas.core.frame.DataFrame'>\n",
            "RangeIndex: 1435 entries, 0 to 1434\n",
            "Data columns (total 7 columns):\n",
            " #   Column    Non-Null Count  Dtype  \n",
            "---  ------    --------------  -----  \n",
            " 0   Date      1435 non-null   object \n",
            " 1   Price     1435 non-null   float64\n",
            " 2   Open      1435 non-null   float64\n",
            " 3   High      1435 non-null   float64\n",
            " 4   Low       1435 non-null   float64\n",
            " 5   Vol.      1435 non-null   object \n",
            " 6   Change %  1435 non-null   object \n",
            "dtypes: float64(4), object(3)\n",
            "memory usage: 78.6+ KB\n"
          ],
          "name": "stdout"
        }
      ]
    },
    {
      "cell_type": "code",
      "metadata": {
        "id": "IkfA-xLfTnNK"
      },
      "source": [
        "#remove the % sign for values in the change % column\n",
        "doge['Change %'] = doge['Change %'].str.replace('%','').str.replace(',','').astype(float)"
      ],
      "execution_count": 8,
      "outputs": []
    },
    {
      "cell_type": "code",
      "metadata": {
        "colab": {
          "base_uri": "https://localhost:8080/"
        },
        "id": "dH1Z4Ya0Uxex",
        "outputId": "b91b9640-28ec-42da-c457-de8835a32250"
      },
      "source": [
        "doge.info()"
      ],
      "execution_count": 9,
      "outputs": [
        {
          "output_type": "stream",
          "text": [
            "<class 'pandas.core.frame.DataFrame'>\n",
            "RangeIndex: 1435 entries, 0 to 1434\n",
            "Data columns (total 7 columns):\n",
            " #   Column    Non-Null Count  Dtype  \n",
            "---  ------    --------------  -----  \n",
            " 0   Date      1435 non-null   object \n",
            " 1   Price     1435 non-null   float64\n",
            " 2   Open      1435 non-null   float64\n",
            " 3   High      1435 non-null   float64\n",
            " 4   Low       1435 non-null   float64\n",
            " 5   Vol.      1435 non-null   object \n",
            " 6   Change %  1435 non-null   float64\n",
            "dtypes: float64(5), object(2)\n",
            "memory usage: 78.6+ KB\n"
          ],
          "name": "stdout"
        }
      ]
    },
    {
      "cell_type": "code",
      "metadata": {
        "colab": {
          "base_uri": "https://localhost:8080/",
          "height": 204
        },
        "id": "j160JVzsUzSe",
        "outputId": "58c09d1e-28e8-4eeb-b0a6-7e660f8b1c05"
      },
      "source": [
        "doge.head()\n"
      ],
      "execution_count": 11,
      "outputs": [
        {
          "output_type": "execute_result",
          "data": {
            "text/html": [
              "<div>\n",
              "<style scoped>\n",
              "    .dataframe tbody tr th:only-of-type {\n",
              "        vertical-align: middle;\n",
              "    }\n",
              "\n",
              "    .dataframe tbody tr th {\n",
              "        vertical-align: top;\n",
              "    }\n",
              "\n",
              "    .dataframe thead th {\n",
              "        text-align: right;\n",
              "    }\n",
              "</style>\n",
              "<table border=\"1\" class=\"dataframe\">\n",
              "  <thead>\n",
              "    <tr style=\"text-align: right;\">\n",
              "      <th></th>\n",
              "      <th>Date</th>\n",
              "      <th>Price</th>\n",
              "      <th>Open</th>\n",
              "      <th>High</th>\n",
              "      <th>Low</th>\n",
              "      <th>Vol.</th>\n",
              "      <th>Change %</th>\n",
              "    </tr>\n",
              "  </thead>\n",
              "  <tbody>\n",
              "    <tr>\n",
              "      <th>0</th>\n",
              "      <td>May 07, 2021</td>\n",
              "      <td>0.573179</td>\n",
              "      <td>0.579819</td>\n",
              "      <td>0.598133</td>\n",
              "      <td>0.519357</td>\n",
              "      <td>14.72B</td>\n",
              "      <td>-1.15</td>\n",
              "    </tr>\n",
              "    <tr>\n",
              "      <th>1</th>\n",
              "      <td>May 06, 2021</td>\n",
              "      <td>0.579839</td>\n",
              "      <td>0.653501</td>\n",
              "      <td>0.663006</td>\n",
              "      <td>0.541526</td>\n",
              "      <td>12.97B</td>\n",
              "      <td>-11.52</td>\n",
              "    </tr>\n",
              "    <tr>\n",
              "      <th>2</th>\n",
              "      <td>May 05, 2021</td>\n",
              "      <td>0.655355</td>\n",
              "      <td>0.559521</td>\n",
              "      <td>0.693839</td>\n",
              "      <td>0.536232</td>\n",
              "      <td>28.03B</td>\n",
              "      <td>17.24</td>\n",
              "    </tr>\n",
              "    <tr>\n",
              "      <th>3</th>\n",
              "      <td>May 04, 2021</td>\n",
              "      <td>0.559005</td>\n",
              "      <td>0.438349</td>\n",
              "      <td>0.594039</td>\n",
              "      <td>0.398416</td>\n",
              "      <td>31.90B</td>\n",
              "      <td>27.56</td>\n",
              "    </tr>\n",
              "    <tr>\n",
              "      <th>4</th>\n",
              "      <td>May 03, 2021</td>\n",
              "      <td>0.438244</td>\n",
              "      <td>0.372467</td>\n",
              "      <td>0.443181</td>\n",
              "      <td>0.372467</td>\n",
              "      <td>9.97B</td>\n",
              "      <td>17.68</td>\n",
              "    </tr>\n",
              "  </tbody>\n",
              "</table>\n",
              "</div>"
            ],
            "text/plain": [
              "           Date     Price      Open      High       Low    Vol.  Change %\n",
              "0  May 07, 2021  0.573179  0.579819  0.598133  0.519357  14.72B     -1.15\n",
              "1  May 06, 2021  0.579839  0.653501  0.663006  0.541526  12.97B    -11.52\n",
              "2  May 05, 2021  0.655355  0.559521  0.693839  0.536232  28.03B     17.24\n",
              "3  May 04, 2021  0.559005  0.438349  0.594039  0.398416  31.90B     27.56\n",
              "4  May 03, 2021  0.438244  0.372467  0.443181  0.372467   9.97B     17.68"
            ]
          },
          "metadata": {
            "tags": []
          },
          "execution_count": 11
        }
      ]
    },
    {
      "cell_type": "code",
      "metadata": {
        "colab": {
          "base_uri": "https://localhost:8080/",
          "height": 297
        },
        "id": "06aMV_YUU4Ut",
        "outputId": "f9bbdb50-d3f7-4afb-9d8f-5385a3b0a69e"
      },
      "source": [
        "doge.describe()"
      ],
      "execution_count": 13,
      "outputs": [
        {
          "output_type": "execute_result",
          "data": {
            "text/html": [
              "<div>\n",
              "<style scoped>\n",
              "    .dataframe tbody tr th:only-of-type {\n",
              "        vertical-align: middle;\n",
              "    }\n",
              "\n",
              "    .dataframe tbody tr th {\n",
              "        vertical-align: top;\n",
              "    }\n",
              "\n",
              "    .dataframe thead th {\n",
              "        text-align: right;\n",
              "    }\n",
              "</style>\n",
              "<table border=\"1\" class=\"dataframe\">\n",
              "  <thead>\n",
              "    <tr style=\"text-align: right;\">\n",
              "      <th></th>\n",
              "      <th>Price</th>\n",
              "      <th>Open</th>\n",
              "      <th>High</th>\n",
              "      <th>Low</th>\n",
              "      <th>Change %</th>\n",
              "    </tr>\n",
              "  </thead>\n",
              "  <tbody>\n",
              "    <tr>\n",
              "      <th>count</th>\n",
              "      <td>1435.000000</td>\n",
              "      <td>1435.000000</td>\n",
              "      <td>1435.000000</td>\n",
              "      <td>1435.000000</td>\n",
              "      <td>1435.000000</td>\n",
              "    </tr>\n",
              "    <tr>\n",
              "      <th>mean</th>\n",
              "      <td>0.011895</td>\n",
              "      <td>0.011497</td>\n",
              "      <td>0.013001</td>\n",
              "      <td>0.010444</td>\n",
              "      <td>5.062732</td>\n",
              "    </tr>\n",
              "    <tr>\n",
              "      <th>std</th>\n",
              "      <td>0.048844</td>\n",
              "      <td>0.046533</td>\n",
              "      <td>0.053560</td>\n",
              "      <td>0.041342</td>\n",
              "      <td>163.961446</td>\n",
              "    </tr>\n",
              "    <tr>\n",
              "      <th>min</th>\n",
              "      <td>0.000774</td>\n",
              "      <td>0.000774</td>\n",
              "      <td>0.000793</td>\n",
              "      <td>0.000669</td>\n",
              "      <td>-98.430000</td>\n",
              "    </tr>\n",
              "    <tr>\n",
              "      <th>25%</th>\n",
              "      <td>0.002301</td>\n",
              "      <td>0.002301</td>\n",
              "      <td>0.002362</td>\n",
              "      <td>0.002212</td>\n",
              "      <td>-2.410000</td>\n",
              "    </tr>\n",
              "    <tr>\n",
              "      <th>50%</th>\n",
              "      <td>0.002746</td>\n",
              "      <td>0.002747</td>\n",
              "      <td>0.002836</td>\n",
              "      <td>0.002634</td>\n",
              "      <td>-0.040000</td>\n",
              "    </tr>\n",
              "    <tr>\n",
              "      <th>75%</th>\n",
              "      <td>0.003638</td>\n",
              "      <td>0.003634</td>\n",
              "      <td>0.003823</td>\n",
              "      <td>0.003451</td>\n",
              "      <td>2.145000</td>\n",
              "    </tr>\n",
              "    <tr>\n",
              "      <th>max</th>\n",
              "      <td>0.655355</td>\n",
              "      <td>0.653501</td>\n",
              "      <td>0.693839</td>\n",
              "      <td>0.541526</td>\n",
              "      <td>6191.550000</td>\n",
              "    </tr>\n",
              "  </tbody>\n",
              "</table>\n",
              "</div>"
            ],
            "text/plain": [
              "             Price         Open         High          Low     Change %\n",
              "count  1435.000000  1435.000000  1435.000000  1435.000000  1435.000000\n",
              "mean      0.011895     0.011497     0.013001     0.010444     5.062732\n",
              "std       0.048844     0.046533     0.053560     0.041342   163.961446\n",
              "min       0.000774     0.000774     0.000793     0.000669   -98.430000\n",
              "25%       0.002301     0.002301     0.002362     0.002212    -2.410000\n",
              "50%       0.002746     0.002747     0.002836     0.002634    -0.040000\n",
              "75%       0.003638     0.003634     0.003823     0.003451     2.145000\n",
              "max       0.655355     0.653501     0.693839     0.541526  6191.550000"
            ]
          },
          "metadata": {
            "tags": []
          },
          "execution_count": 13
        }
      ]
    },
    {
      "cell_type": "markdown",
      "metadata": {
        "id": "NhUbUUoIVmUU"
      },
      "source": [
        "What day was doge coin at it's lowest price?"
      ]
    },
    {
      "cell_type": "code",
      "metadata": {
        "colab": {
          "base_uri": "https://localhost:8080/",
          "height": 80
        },
        "id": "aq_qBj1ZU8Jc",
        "outputId": "c02f3ac0-bd3f-460a-ad8b-e275d2f92301"
      },
      "source": [
        "doge[doge['Price']==doge['Price'].min()][['Date','Price']]"
      ],
      "execution_count": 14,
      "outputs": [
        {
          "output_type": "execute_result",
          "data": {
            "text/html": [
              "<div>\n",
              "<style scoped>\n",
              "    .dataframe tbody tr th:only-of-type {\n",
              "        vertical-align: middle;\n",
              "    }\n",
              "\n",
              "    .dataframe tbody tr th {\n",
              "        vertical-align: top;\n",
              "    }\n",
              "\n",
              "    .dataframe thead th {\n",
              "        text-align: right;\n",
              "    }\n",
              "</style>\n",
              "<table border=\"1\" class=\"dataframe\">\n",
              "  <thead>\n",
              "    <tr style=\"text-align: right;\">\n",
              "      <th></th>\n",
              "      <th>Date</th>\n",
              "      <th>Price</th>\n",
              "    </tr>\n",
              "  </thead>\n",
              "  <tbody>\n",
              "    <tr>\n",
              "      <th>1323</th>\n",
              "      <td>Sep 22, 2017</td>\n",
              "      <td>0.000774</td>\n",
              "    </tr>\n",
              "  </tbody>\n",
              "</table>\n",
              "</div>"
            ],
            "text/plain": [
              "              Date     Price\n",
              "1323  Sep 22, 2017  0.000774"
            ]
          },
          "metadata": {
            "tags": []
          },
          "execution_count": 14
        }
      ]
    },
    {
      "cell_type": "markdown",
      "metadata": {
        "id": "7m4iTOukWDz7"
      },
      "source": [
        "What day was doge coin at it's highest price?"
      ]
    },
    {
      "cell_type": "code",
      "metadata": {
        "colab": {
          "base_uri": "https://localhost:8080/",
          "height": 80
        },
        "id": "iWi9-X5JV_y7",
        "outputId": "26608156-9660-475c-c3ef-7938a0e8ea19"
      },
      "source": [
        "doge[doge['Price']==doge['Price'].max()][['Date','Price']]"
      ],
      "execution_count": 16,
      "outputs": [
        {
          "output_type": "execute_result",
          "data": {
            "text/html": [
              "<div>\n",
              "<style scoped>\n",
              "    .dataframe tbody tr th:only-of-type {\n",
              "        vertical-align: middle;\n",
              "    }\n",
              "\n",
              "    .dataframe tbody tr th {\n",
              "        vertical-align: top;\n",
              "    }\n",
              "\n",
              "    .dataframe thead th {\n",
              "        text-align: right;\n",
              "    }\n",
              "</style>\n",
              "<table border=\"1\" class=\"dataframe\">\n",
              "  <thead>\n",
              "    <tr style=\"text-align: right;\">\n",
              "      <th></th>\n",
              "      <th>Date</th>\n",
              "      <th>Price</th>\n",
              "    </tr>\n",
              "  </thead>\n",
              "  <tbody>\n",
              "    <tr>\n",
              "      <th>2</th>\n",
              "      <td>May 05, 2021</td>\n",
              "      <td>0.655355</td>\n",
              "    </tr>\n",
              "  </tbody>\n",
              "</table>\n",
              "</div>"
            ],
            "text/plain": [
              "           Date     Price\n",
              "2  May 05, 2021  0.655355"
            ]
          },
          "metadata": {
            "tags": []
          },
          "execution_count": 16
        }
      ]
    },
    {
      "cell_type": "markdown",
      "metadata": {
        "id": "sRXAZ8ufWY89"
      },
      "source": [
        "Correlation between various attributes in dataset"
      ]
    },
    {
      "cell_type": "code",
      "metadata": {
        "colab": {
          "base_uri": "https://localhost:8080/"
        },
        "id": "PzCb0z85WNhu",
        "outputId": "e3ef9b8c-9ec3-4544-cf6e-22350d859aa5"
      },
      "source": [
        "print(doge.corr())"
      ],
      "execution_count": 19,
      "outputs": [
        {
          "output_type": "stream",
          "text": [
            "             Price      Open      High       Low  Change %\n",
            "Price     1.000000  0.977760  0.993084  0.987807  0.082484\n",
            "Open      0.977760  1.000000  0.982604  0.989810 -0.002414\n",
            "High      0.993084  0.982604  1.000000  0.978617  0.089781\n",
            "Low       0.987807  0.989810  0.978617  1.000000  0.000392\n",
            "Change %  0.082484 -0.002414  0.089781  0.000392  1.000000\n"
          ],
          "name": "stdout"
        }
      ]
    },
    {
      "cell_type": "code",
      "metadata": {
        "colab": {
          "base_uri": "https://localhost:8080/",
          "height": 277
        },
        "id": "fCi_Sy0QWvnK",
        "outputId": "e2b4960a-b0ef-44cb-bf21-c29a50bdc76c"
      },
      "source": [
        "#plot heatmap of the correlation\n",
        "plot = sns.heatmap(doge.corr(), cmap='YlGnBu', annot = True)\n",
        "plt.show()"
      ],
      "execution_count": 22,
      "outputs": [
        {
          "output_type": "display_data",
          "data": {
            "image/png": "[encoded data removed]",
            "text/plain": [
              "<Figure size 432x288 with 2 Axes>"
            ]
          },
          "metadata": {
            "tags": [],
            "needs_background": "light"
          }
        }
      ]
    },
    {
      "cell_type": "markdown",
      "metadata": {
        "id": "MWn171ZIWljQ"
      },
      "source": [
        "Yearwise mean price"
      ]
    },
    {
      "cell_type": "code",
      "metadata": {
        "id": "jgFjUkc7WbNq"
      },
      "source": [
        "doge['year'] = doge['Date'].apply(lambda x: x[-4:]).astype(int)"
      ],
      "execution_count": 26,
      "outputs": []
    },
    {
      "cell_type": "code",
      "metadata": {
        "colab": {
          "base_uri": "https://localhost:8080/"
        },
        "id": "8LUYccqjXj0N",
        "outputId": "669fe4e2-02fc-4d75-cceb-90d5cf7c4441"
      },
      "source": [
        "doge.groupby('year')['Price'].mean()"
      ],
      "execution_count": 30,
      "outputs": [
        {
          "output_type": "execute_result",
          "data": {
            "text/plain": [
              "year\n",
              "2017    0.002272\n",
              "2018    0.004350\n",
              "2019    0.002576\n",
              "2020    0.003135\n",
              "2021    0.101671\n",
              "Name: Price, dtype: float64"
            ]
          },
          "metadata": {
            "tags": []
          },
          "execution_count": 30
        }
      ]
    },
    {
      "cell_type": "code",
      "metadata": {
        "colab": {
          "base_uri": "https://localhost:8080/",
          "height": 312
        },
        "id": "PQ9P7_4ZXrWc",
        "outputId": "6c8a8326-26ab-457d-c900-4ae20c195dd2"
      },
      "source": [
        "doge.groupby('year')['Price'].mean().plot(kind='bar')"
      ],
      "execution_count": 31,
      "outputs": [
        {
          "output_type": "execute_result",
          "data": {
            "text/plain": [
              "<matplotlib.axes._subplots.AxesSubplot at 0x7f4d90995090>"
            ]
          },
          "metadata": {
            "tags": []
          },
          "execution_count": 31
        },
        {
          "output_type": "display_data",
          "data": {
            "image/png": "[encoded data removed]",
            "text/plain": [
              "<Figure size 432x288 with 1 Axes>"
            ]
          },
          "metadata": {
            "tags": [],
            "needs_background": "light"
          }
        }
      ]
    },
    {
      "cell_type": "code",
      "metadata": {
        "id": "5wRAxlsdYNDk"
      },
      "source": [
        ""
      ],
      "execution_count": null,
      "outputs": []
    }
  ]
}