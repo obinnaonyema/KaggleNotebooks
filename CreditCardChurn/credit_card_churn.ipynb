{
  "nbformat": 4,
  "nbformat_minor": 0,
  "metadata": {
    "colab": {
      "name": "credit_card_churn.ipynb",
      "provenance": [],
      "collapsed_sections": []
    },
    "kernelspec": {
      "name": "python3",
      "display_name": "Python 3"
    },
    "language_info": {
      "name": "python"
    }
  },
  "cells": [
    {
      "cell_type": "code",
      "metadata": {
        "id": "fNJHSQYUsFyk"
      },
      "source": [
        "import numpy as np\n",
        "import pandas as pd"
      ],
      "execution_count": 6,
      "outputs": []
    },
    {
      "cell_type": "code",
      "metadata": {
        "colab": {
          "base_uri": "https://localhost:8080/",
          "height": 309
        },
        "id": "gqR6offOsMY4",
        "outputId": "a3f7afc3-cbbf-43e2-dd3d-1e20188e51c6"
      },
      "source": [
        "df = pd.read_csv('BankChurners.csv')\n",
        "df.head()"
      ],
      "execution_count": 7,
      "outputs": [
        {
          "output_type": "execute_result",
          "data": {
            "text/html": [
              "<div>\n",
              "<style scoped>\n",
              "    .dataframe tbody tr th:only-of-type {\n",
              "        vertical-align: middle;\n",
              "    }\n",
              "\n",
              "    .dataframe tbody tr th {\n",
              "        vertical-align: top;\n",
              "    }\n",
              "\n",
              "    .dataframe thead th {\n",
              "        text-align: right;\n",
              "    }\n",
              "</style>\n",
              "<table border=\"1\" class=\"dataframe\">\n",
              "  <thead>\n",
              "    <tr style=\"text-align: right;\">\n",
              "      <th></th>\n",
              "      <th>CLIENTNUM</th>\n",
              "      <th>Attrition_Flag</th>\n",
              "      <th>Customer_Age</th>\n",
              "      <th>Gender</th>\n",
              "      <th>Dependent_count</th>\n",
              "      <th>Education_Level</th>\n",
              "      <th>Marital_Status</th>\n",
              "      <th>Income_Category</th>\n",
              "      <th>Card_Category</th>\n",
              "      <th>Months_on_book</th>\n",
              "      <th>Total_Relationship_Count</th>\n",
              "      <th>Months_Inactive_12_mon</th>\n",
              "      <th>Contacts_Count_12_mon</th>\n",
              "      <th>Credit_Limit</th>\n",
              "      <th>Total_Revolving_Bal</th>\n",
              "      <th>Avg_Open_To_Buy</th>\n",
              "      <th>Total_Amt_Chng_Q4_Q1</th>\n",
              "      <th>Total_Trans_Amt</th>\n",
              "      <th>Total_Trans_Ct</th>\n",
              "      <th>Total_Ct_Chng_Q4_Q1</th>\n",
              "      <th>Avg_Utilization_Ratio</th>\n",
              "      <th>Naive_Bayes_Classifier_Attrition_Flag_Card_Category_Contacts_Count_12_mon_Dependent_count_Education_Level_Months_Inactive_12_mon_1</th>\n",
              "      <th>Naive_Bayes_Classifier_Attrition_Flag_Card_Category_Contacts_Count_12_mon_Dependent_count_Education_Level_Months_Inactive_12_mon_2</th>\n",
              "    </tr>\n",
              "  </thead>\n",
              "  <tbody>\n",
              "    <tr>\n",
              "      <th>0</th>\n",
              "      <td>768805383</td>\n",
              "      <td>Existing Customer</td>\n",
              "      <td>45</td>\n",
              "      <td>M</td>\n",
              "      <td>3</td>\n",
              "      <td>High School</td>\n",
              "      <td>Married</td>\n",
              "      <td>$60K - $80K</td>\n",
              "      <td>Blue</td>\n",
              "      <td>39</td>\n",
              "      <td>5</td>\n",
              "      <td>1</td>\n",
              "      <td>3</td>\n",
              "      <td>12691.0</td>\n",
              "      <td>777</td>\n",
              "      <td>11914.0</td>\n",
              "      <td>1.335</td>\n",
              "      <td>1144</td>\n",
              "      <td>42</td>\n",
              "      <td>1.625</td>\n",
              "      <td>0.061</td>\n",
              "      <td>0.000093</td>\n",
              "      <td>0.99991</td>\n",
              "    </tr>\n",
              "    <tr>\n",
              "      <th>1</th>\n",
              "      <td>818770008</td>\n",
              "      <td>Existing Customer</td>\n",
              "      <td>49</td>\n",
              "      <td>F</td>\n",
              "      <td>5</td>\n",
              "      <td>Graduate</td>\n",
              "      <td>Single</td>\n",
              "      <td>Less than $40K</td>\n",
              "      <td>Blue</td>\n",
              "      <td>44</td>\n",
              "      <td>6</td>\n",
              "      <td>1</td>\n",
              "      <td>2</td>\n",
              "      <td>8256.0</td>\n",
              "      <td>864</td>\n",
              "      <td>7392.0</td>\n",
              "      <td>1.541</td>\n",
              "      <td>1291</td>\n",
              "      <td>33</td>\n",
              "      <td>3.714</td>\n",
              "      <td>0.105</td>\n",
              "      <td>0.000057</td>\n",
              "      <td>0.99994</td>\n",
              "    </tr>\n",
              "    <tr>\n",
              "      <th>2</th>\n",
              "      <td>713982108</td>\n",
              "      <td>Existing Customer</td>\n",
              "      <td>51</td>\n",
              "      <td>M</td>\n",
              "      <td>3</td>\n",
              "      <td>Graduate</td>\n",
              "      <td>Married</td>\n",
              "      <td>$80K - $120K</td>\n",
              "      <td>Blue</td>\n",
              "      <td>36</td>\n",
              "      <td>4</td>\n",
              "      <td>1</td>\n",
              "      <td>0</td>\n",
              "      <td>3418.0</td>\n",
              "      <td>0</td>\n",
              "      <td>3418.0</td>\n",
              "      <td>2.594</td>\n",
              "      <td>1887</td>\n",
              "      <td>20</td>\n",
              "      <td>2.333</td>\n",
              "      <td>0.000</td>\n",
              "      <td>0.000021</td>\n",
              "      <td>0.99998</td>\n",
              "    </tr>\n",
              "    <tr>\n",
              "      <th>3</th>\n",
              "      <td>769911858</td>\n",
              "      <td>Existing Customer</td>\n",
              "      <td>40</td>\n",
              "      <td>F</td>\n",
              "      <td>4</td>\n",
              "      <td>High School</td>\n",
              "      <td>Unknown</td>\n",
              "      <td>Less than $40K</td>\n",
              "      <td>Blue</td>\n",
              "      <td>34</td>\n",
              "      <td>3</td>\n",
              "      <td>4</td>\n",
              "      <td>1</td>\n",
              "      <td>3313.0</td>\n",
              "      <td>2517</td>\n",
              "      <td>796.0</td>\n",
              "      <td>1.405</td>\n",
              "      <td>1171</td>\n",
              "      <td>20</td>\n",
              "      <td>2.333</td>\n",
              "      <td>0.760</td>\n",
              "      <td>0.000134</td>\n",
              "      <td>0.99987</td>\n",
              "    </tr>\n",
              "    <tr>\n",
              "      <th>4</th>\n",
              "      <td>709106358</td>\n",
              "      <td>Existing Customer</td>\n",
              "      <td>40</td>\n",
              "      <td>M</td>\n",
              "      <td>3</td>\n",
              "      <td>Uneducated</td>\n",
              "      <td>Married</td>\n",
              "      <td>$60K - $80K</td>\n",
              "      <td>Blue</td>\n",
              "      <td>21</td>\n",
              "      <td>5</td>\n",
              "      <td>1</td>\n",
              "      <td>0</td>\n",
              "      <td>4716.0</td>\n",
              "      <td>0</td>\n",
              "      <td>4716.0</td>\n",
              "      <td>2.175</td>\n",
              "      <td>816</td>\n",
              "      <td>28</td>\n",
              "      <td>2.500</td>\n",
              "      <td>0.000</td>\n",
              "      <td>0.000022</td>\n",
              "      <td>0.99998</td>\n",
              "    </tr>\n",
              "  </tbody>\n",
              "</table>\n",
              "</div>"
            ],
            "text/plain": [
              "   CLIENTNUM  ... Naive_Bayes_Classifier_Attrition_Flag_Card_Category_Contacts_Count_12_mon_Dependent_count_Education_Level_Months_Inactive_12_mon_2\n",
              "0  768805383  ...                                            0.99991                                                                                \n",
              "1  818770008  ...                                            0.99994                                                                                \n",
              "2  713982108  ...                                            0.99998                                                                                \n",
              "3  769911858  ...                                            0.99987                                                                                \n",
              "4  709106358  ...                                            0.99998                                                                                \n",
              "\n",
              "[5 rows x 23 columns]"
            ]
          },
          "metadata": {
            "tags": []
          },
          "execution_count": 7
        }
      ]
    },
    {
      "cell_type": "code",
      "metadata": {
        "id": "2Cp2cBTAtZWe",
        "colab": {
          "base_uri": "https://localhost:8080/"
        },
        "outputId": "ee0ce077-343f-4fde-bcfe-c45494abc3db"
      },
      "source": [
        "df.info()"
      ],
      "execution_count": 8,
      "outputs": [
        {
          "output_type": "stream",
          "text": [
            "<class 'pandas.core.frame.DataFrame'>\n",
            "RangeIndex: 10127 entries, 0 to 10126\n",
            "Data columns (total 23 columns):\n",
            " #   Column                                                                                                                              Non-Null Count  Dtype  \n",
            "---  ------                                                                                                                              --------------  -----  \n",
            " 0   CLIENTNUM                                                                                                                           10127 non-null  int64  \n",
            " 1   Attrition_Flag                                                                                                                      10127 non-null  object \n",
            " 2   Customer_Age                                                                                                                        10127 non-null  int64  \n",
            " 3   Gender                                                                                                                              10127 non-null  object \n",
            " 4   Dependent_count                                                                                                                     10127 non-null  int64  \n",
            " 5   Education_Level                                                                                                                     10127 non-null  object \n",
            " 6   Marital_Status                                                                                                                      10127 non-null  object \n",
            " 7   Income_Category                                                                                                                     10127 non-null  object \n",
            " 8   Card_Category                                                                                                                       10127 non-null  object \n",
            " 9   Months_on_book                                                                                                                      10127 non-null  int64  \n",
            " 10  Total_Relationship_Count                                                                                                            10127 non-null  int64  \n",
            " 11  Months_Inactive_12_mon                                                                                                              10127 non-null  int64  \n",
            " 12  Contacts_Count_12_mon                                                                                                               10127 non-null  int64  \n",
            " 13  Credit_Limit                                                                                                                        10127 non-null  float64\n",
            " 14  Total_Revolving_Bal                                                                                                                 10127 non-null  int64  \n",
            " 15  Avg_Open_To_Buy                                                                                                                     10127 non-null  float64\n",
            " 16  Total_Amt_Chng_Q4_Q1                                                                                                                10127 non-null  float64\n",
            " 17  Total_Trans_Amt                                                                                                                     10127 non-null  int64  \n",
            " 18  Total_Trans_Ct                                                                                                                      10127 non-null  int64  \n",
            " 19  Total_Ct_Chng_Q4_Q1                                                                                                                 10127 non-null  float64\n",
            " 20  Avg_Utilization_Ratio                                                                                                               10127 non-null  float64\n",
            " 21  Naive_Bayes_Classifier_Attrition_Flag_Card_Category_Contacts_Count_12_mon_Dependent_count_Education_Level_Months_Inactive_12_mon_1  10127 non-null  float64\n",
            " 22  Naive_Bayes_Classifier_Attrition_Flag_Card_Category_Contacts_Count_12_mon_Dependent_count_Education_Level_Months_Inactive_12_mon_2  10127 non-null  float64\n",
            "dtypes: float64(7), int64(10), object(6)\n",
            "memory usage: 1.8+ MB\n"
          ],
          "name": "stdout"
        }
      ]
    },
    {
      "cell_type": "code",
      "metadata": {
        "id": "hnauimEnuGnA"
      },
      "source": [
        "#drop 2 unnecessary columns as adviced by dataset provider\n",
        "df = df.drop(columns=['Naive_Bayes_Classifier_Attrition_Flag_Card_Category_Contacts_Count_12_mon_Dependent_count_Education_Level_Months_Inactive_12_mon_1','Naive_Bayes_Classifier_Attrition_Flag_Card_Category_Contacts_Count_12_mon_Dependent_count_Education_Level_Months_Inactive_12_mon_2'] , axis=1)"
      ],
      "execution_count": 9,
      "outputs": []
    },
    {
      "cell_type": "code",
      "metadata": {
        "colab": {
          "base_uri": "https://localhost:8080/"
        },
        "id": "fE0IUFveuYO2",
        "outputId": "67048be5-4d62-44a9-b5f8-0365cbcef376"
      },
      "source": [
        "df.info()"
      ],
      "execution_count": 10,
      "outputs": [
        {
          "output_type": "stream",
          "text": [
            "<class 'pandas.core.frame.DataFrame'>\n",
            "RangeIndex: 10127 entries, 0 to 10126\n",
            "Data columns (total 21 columns):\n",
            " #   Column                    Non-Null Count  Dtype  \n",
            "---  ------                    --------------  -----  \n",
            " 0   CLIENTNUM                 10127 non-null  int64  \n",
            " 1   Attrition_Flag            10127 non-null  object \n",
            " 2   Customer_Age              10127 non-null  int64  \n",
            " 3   Gender                    10127 non-null  object \n",
            " 4   Dependent_count           10127 non-null  int64  \n",
            " 5   Education_Level           10127 non-null  object \n",
            " 6   Marital_Status            10127 non-null  object \n",
            " 7   Income_Category           10127 non-null  object \n",
            " 8   Card_Category             10127 non-null  object \n",
            " 9   Months_on_book            10127 non-null  int64  \n",
            " 10  Total_Relationship_Count  10127 non-null  int64  \n",
            " 11  Months_Inactive_12_mon    10127 non-null  int64  \n",
            " 12  Contacts_Count_12_mon     10127 non-null  int64  \n",
            " 13  Credit_Limit              10127 non-null  float64\n",
            " 14  Total_Revolving_Bal       10127 non-null  int64  \n",
            " 15  Avg_Open_To_Buy           10127 non-null  float64\n",
            " 16  Total_Amt_Chng_Q4_Q1      10127 non-null  float64\n",
            " 17  Total_Trans_Amt           10127 non-null  int64  \n",
            " 18  Total_Trans_Ct            10127 non-null  int64  \n",
            " 19  Total_Ct_Chng_Q4_Q1       10127 non-null  float64\n",
            " 20  Avg_Utilization_Ratio     10127 non-null  float64\n",
            "dtypes: float64(5), int64(10), object(6)\n",
            "memory usage: 1.6+ MB\n"
          ],
          "name": "stdout"
        }
      ]
    },
    {
      "cell_type": "code",
      "metadata": {
        "colab": {
          "base_uri": "https://localhost:8080/",
          "height": 362
        },
        "id": "S4gj56QfukOX",
        "outputId": "ce3388ef-0088-47ea-8683-89330a19ce5e"
      },
      "source": [
        "import matplotlib.pyplot as plt\n",
        "df.Attrition_Flag.value_counts().plot(kind='bar')\n",
        "plt.title('Attrition Flag')\n",
        "plt.show()"
      ],
      "execution_count": 11,
      "outputs": [
        {
          "output_type": "display_data",
          "data": {
            "image/png": "[encoded data removed]",
            "text/plain": [
              "<Figure size 432x288 with 1 Axes>"
            ]
          },
          "metadata": {
            "tags": [],
            "needs_background": "light"
          }
        }
      ]
    },
    {
      "cell_type": "code",
      "metadata": {
        "colab": {
          "base_uri": "https://localhost:8080/",
          "height": 1000
        },
        "id": "eMnGZ4ptvSdz",
        "outputId": "5306a96e-9e59-4954-bdb7-5ee650ad898f"
      },
      "source": [
        "for var in ['Gender','Education_Level','Marital_Status','Income_Category', 'Card_Category']:\n",
        "  df[var].value_counts().plot(kind='bar')\n",
        "  plt.title(var)\n",
        "  plt.show()"
      ],
      "execution_count": 12,
      "outputs": [
        {
          "output_type": "display_data",
          "data": {
            "image/png": "[encoded data removed]",
            "text/plain": [
              "<Figure size 432x288 with 1 Axes>"
            ]
          },
          "metadata": {
            "tags": [],
            "needs_background": "light"
          }
        },
        {
          "output_type": "display_data",
          "data": {
            "image/png": "[encoded data removed]",
            "text/plain": [
              "<Figure size 432x288 with 1 Axes>"
            ]
          },
          "metadata": {
            "tags": [],
            "needs_background": "light"
          }
        },
        {
          "output_type": "display_data",
          "data": {
            "image/png": "[encoded data removed]",
            "text/plain": [
              "<Figure size 432x288 with 1 Axes>"
            ]
          },
          "metadata": {
            "tags": [],
            "needs_background": "light"
          }
        },
        {
          "output_type": "display_data",
          "data": {
            "image/png": "[encoded data removed]",
            "text/plain": [
              "<Figure size 432x288 with 1 Axes>"
            ]
          },
          "metadata": {
            "tags": [],
            "needs_background": "light"
          }
        },
        {
          "output_type": "display_data",
          "data": {
            "image/png": "[encoded data removed]",
            "text/plain": [
              "<Figure size 432x288 with 1 Axes>"
            ]
          },
          "metadata": {
            "tags": [],
            "needs_background": "light"
          }
        }
      ]
    },
    {
      "cell_type": "markdown",
      "metadata": {
        "id": "m7PplhV7wq-V"
      },
      "source": [
        "Pre-Processing Categorical Data"
      ]
    },
    {
      "cell_type": "code",
      "metadata": {
        "id": "MltJ0tk7wThy"
      },
      "source": [
        "from sklearn.preprocessing import LabelEncoder\n",
        "from sklearn.preprocessing import OneHotEncoder\n",
        "\n",
        "labels = ['Attrition_Flag','Gender','Income_Category']\n",
        "categories = ['Education_Level','Marital_Status','Card_Category']\n",
        "\n",
        "le = LabelEncoder()\n",
        "ohe = OneHotEncoder(sparse=False)"
      ],
      "execution_count": 13,
      "outputs": []
    },
    {
      "cell_type": "code",
      "metadata": {
        "id": "QdZWGWcv7Rb0"
      },
      "source": [
        "df[labels]=df[labels].apply(lambda x: le.fit_transform(x))"
      ],
      "execution_count": 14,
      "outputs": []
    },
    {
      "cell_type": "code",
      "metadata": {
        "id": "4Xst7qS_7XNm"
      },
      "source": [
        "for cat in categories:\n",
        "  cat_features = pd.DataFrame(ohe.fit_transform(df[[cat]]), columns = list([df[cat].unique()]))\n",
        "  df = pd.concat([df, cat_features], axis=1)"
      ],
      "execution_count": 15,
      "outputs": []
    },
    {
      "cell_type": "code",
      "metadata": {
        "colab": {
          "base_uri": "https://localhost:8080/",
          "height": 241
        },
        "id": "vqzNjcuG700Z",
        "outputId": "6d31c573-051c-4633-c754-01b1df0f830f"
      },
      "source": [
        "df.head()"
      ],
      "execution_count": 16,
      "outputs": [
        {
          "output_type": "execute_result",
          "data": {
            "text/html": [
              "<div>\n",
              "<style scoped>\n",
              "    .dataframe tbody tr th:only-of-type {\n",
              "        vertical-align: middle;\n",
              "    }\n",
              "\n",
              "    .dataframe tbody tr th {\n",
              "        vertical-align: top;\n",
              "    }\n",
              "\n",
              "    .dataframe thead th {\n",
              "        text-align: right;\n",
              "    }\n",
              "</style>\n",
              "<table border=\"1\" class=\"dataframe\">\n",
              "  <thead>\n",
              "    <tr style=\"text-align: right;\">\n",
              "      <th></th>\n",
              "      <th>CLIENTNUM</th>\n",
              "      <th>Attrition_Flag</th>\n",
              "      <th>Customer_Age</th>\n",
              "      <th>Gender</th>\n",
              "      <th>Dependent_count</th>\n",
              "      <th>Education_Level</th>\n",
              "      <th>Marital_Status</th>\n",
              "      <th>Income_Category</th>\n",
              "      <th>Card_Category</th>\n",
              "      <th>Months_on_book</th>\n",
              "      <th>Total_Relationship_Count</th>\n",
              "      <th>Months_Inactive_12_mon</th>\n",
              "      <th>Contacts_Count_12_mon</th>\n",
              "      <th>Credit_Limit</th>\n",
              "      <th>Total_Revolving_Bal</th>\n",
              "      <th>Avg_Open_To_Buy</th>\n",
              "      <th>Total_Amt_Chng_Q4_Q1</th>\n",
              "      <th>Total_Trans_Amt</th>\n",
              "      <th>Total_Trans_Ct</th>\n",
              "      <th>Total_Ct_Chng_Q4_Q1</th>\n",
              "      <th>Avg_Utilization_Ratio</th>\n",
              "      <th>(High School,)</th>\n",
              "      <th>(Graduate,)</th>\n",
              "      <th>(Uneducated,)</th>\n",
              "      <th>(Unknown,)</th>\n",
              "      <th>(College,)</th>\n",
              "      <th>(Post-Graduate,)</th>\n",
              "      <th>(Doctorate,)</th>\n",
              "      <th>(Married,)</th>\n",
              "      <th>(Single,)</th>\n",
              "      <th>(Unknown,)</th>\n",
              "      <th>(Divorced,)</th>\n",
              "      <th>(Blue,)</th>\n",
              "      <th>(Gold,)</th>\n",
              "      <th>(Silver,)</th>\n",
              "      <th>(Platinum,)</th>\n",
              "    </tr>\n",
              "  </thead>\n",
              "  <tbody>\n",
              "    <tr>\n",
              "      <th>0</th>\n",
              "      <td>768805383</td>\n",
              "      <td>1</td>\n",
              "      <td>45</td>\n",
              "      <td>1</td>\n",
              "      <td>3</td>\n",
              "      <td>High School</td>\n",
              "      <td>Married</td>\n",
              "      <td>2</td>\n",
              "      <td>Blue</td>\n",
              "      <td>39</td>\n",
              "      <td>5</td>\n",
              "      <td>1</td>\n",
              "      <td>3</td>\n",
              "      <td>12691.0</td>\n",
              "      <td>777</td>\n",
              "      <td>11914.0</td>\n",
              "      <td>1.335</td>\n",
              "      <td>1144</td>\n",
              "      <td>42</td>\n",
              "      <td>1.625</td>\n",
              "      <td>0.061</td>\n",
              "      <td>0.0</td>\n",
              "      <td>0.0</td>\n",
              "      <td>0.0</td>\n",
              "      <td>1.0</td>\n",
              "      <td>0.0</td>\n",
              "      <td>0.0</td>\n",
              "      <td>0.0</td>\n",
              "      <td>0.0</td>\n",
              "      <td>1.0</td>\n",
              "      <td>0.0</td>\n",
              "      <td>0.0</td>\n",
              "      <td>1.0</td>\n",
              "      <td>0.0</td>\n",
              "      <td>0.0</td>\n",
              "      <td>0.0</td>\n",
              "    </tr>\n",
              "    <tr>\n",
              "      <th>1</th>\n",
              "      <td>818770008</td>\n",
              "      <td>1</td>\n",
              "      <td>49</td>\n",
              "      <td>0</td>\n",
              "      <td>5</td>\n",
              "      <td>Graduate</td>\n",
              "      <td>Single</td>\n",
              "      <td>4</td>\n",
              "      <td>Blue</td>\n",
              "      <td>44</td>\n",
              "      <td>6</td>\n",
              "      <td>1</td>\n",
              "      <td>2</td>\n",
              "      <td>8256.0</td>\n",
              "      <td>864</td>\n",
              "      <td>7392.0</td>\n",
              "      <td>1.541</td>\n",
              "      <td>1291</td>\n",
              "      <td>33</td>\n",
              "      <td>3.714</td>\n",
              "      <td>0.105</td>\n",
              "      <td>0.0</td>\n",
              "      <td>0.0</td>\n",
              "      <td>1.0</td>\n",
              "      <td>0.0</td>\n",
              "      <td>0.0</td>\n",
              "      <td>0.0</td>\n",
              "      <td>0.0</td>\n",
              "      <td>0.0</td>\n",
              "      <td>0.0</td>\n",
              "      <td>1.0</td>\n",
              "      <td>0.0</td>\n",
              "      <td>1.0</td>\n",
              "      <td>0.0</td>\n",
              "      <td>0.0</td>\n",
              "      <td>0.0</td>\n",
              "    </tr>\n",
              "    <tr>\n",
              "      <th>2</th>\n",
              "      <td>713982108</td>\n",
              "      <td>1</td>\n",
              "      <td>51</td>\n",
              "      <td>1</td>\n",
              "      <td>3</td>\n",
              "      <td>Graduate</td>\n",
              "      <td>Married</td>\n",
              "      <td>3</td>\n",
              "      <td>Blue</td>\n",
              "      <td>36</td>\n",
              "      <td>4</td>\n",
              "      <td>1</td>\n",
              "      <td>0</td>\n",
              "      <td>3418.0</td>\n",
              "      <td>0</td>\n",
              "      <td>3418.0</td>\n",
              "      <td>2.594</td>\n",
              "      <td>1887</td>\n",
              "      <td>20</td>\n",
              "      <td>2.333</td>\n",
              "      <td>0.000</td>\n",
              "      <td>0.0</td>\n",
              "      <td>0.0</td>\n",
              "      <td>1.0</td>\n",
              "      <td>0.0</td>\n",
              "      <td>0.0</td>\n",
              "      <td>0.0</td>\n",
              "      <td>0.0</td>\n",
              "      <td>0.0</td>\n",
              "      <td>1.0</td>\n",
              "      <td>0.0</td>\n",
              "      <td>0.0</td>\n",
              "      <td>1.0</td>\n",
              "      <td>0.0</td>\n",
              "      <td>0.0</td>\n",
              "      <td>0.0</td>\n",
              "    </tr>\n",
              "    <tr>\n",
              "      <th>3</th>\n",
              "      <td>769911858</td>\n",
              "      <td>1</td>\n",
              "      <td>40</td>\n",
              "      <td>0</td>\n",
              "      <td>4</td>\n",
              "      <td>High School</td>\n",
              "      <td>Unknown</td>\n",
              "      <td>4</td>\n",
              "      <td>Blue</td>\n",
              "      <td>34</td>\n",
              "      <td>3</td>\n",
              "      <td>4</td>\n",
              "      <td>1</td>\n",
              "      <td>3313.0</td>\n",
              "      <td>2517</td>\n",
              "      <td>796.0</td>\n",
              "      <td>1.405</td>\n",
              "      <td>1171</td>\n",
              "      <td>20</td>\n",
              "      <td>2.333</td>\n",
              "      <td>0.760</td>\n",
              "      <td>0.0</td>\n",
              "      <td>0.0</td>\n",
              "      <td>0.0</td>\n",
              "      <td>1.0</td>\n",
              "      <td>0.0</td>\n",
              "      <td>0.0</td>\n",
              "      <td>0.0</td>\n",
              "      <td>0.0</td>\n",
              "      <td>0.0</td>\n",
              "      <td>0.0</td>\n",
              "      <td>1.0</td>\n",
              "      <td>1.0</td>\n",
              "      <td>0.0</td>\n",
              "      <td>0.0</td>\n",
              "      <td>0.0</td>\n",
              "    </tr>\n",
              "    <tr>\n",
              "      <th>4</th>\n",
              "      <td>709106358</td>\n",
              "      <td>1</td>\n",
              "      <td>40</td>\n",
              "      <td>1</td>\n",
              "      <td>3</td>\n",
              "      <td>Uneducated</td>\n",
              "      <td>Married</td>\n",
              "      <td>2</td>\n",
              "      <td>Blue</td>\n",
              "      <td>21</td>\n",
              "      <td>5</td>\n",
              "      <td>1</td>\n",
              "      <td>0</td>\n",
              "      <td>4716.0</td>\n",
              "      <td>0</td>\n",
              "      <td>4716.0</td>\n",
              "      <td>2.175</td>\n",
              "      <td>816</td>\n",
              "      <td>28</td>\n",
              "      <td>2.500</td>\n",
              "      <td>0.000</td>\n",
              "      <td>0.0</td>\n",
              "      <td>0.0</td>\n",
              "      <td>0.0</td>\n",
              "      <td>0.0</td>\n",
              "      <td>0.0</td>\n",
              "      <td>1.0</td>\n",
              "      <td>0.0</td>\n",
              "      <td>0.0</td>\n",
              "      <td>1.0</td>\n",
              "      <td>0.0</td>\n",
              "      <td>0.0</td>\n",
              "      <td>1.0</td>\n",
              "      <td>0.0</td>\n",
              "      <td>0.0</td>\n",
              "      <td>0.0</td>\n",
              "    </tr>\n",
              "  </tbody>\n",
              "</table>\n",
              "</div>"
            ],
            "text/plain": [
              "   CLIENTNUM  Attrition_Flag  Customer_Age  ...  (Gold,)  (Silver,) (Platinum,)\n",
              "0  768805383               1            45  ...      0.0        0.0         0.0\n",
              "1  818770008               1            49  ...      0.0        0.0         0.0\n",
              "2  713982108               1            51  ...      0.0        0.0         0.0\n",
              "3  769911858               1            40  ...      0.0        0.0         0.0\n",
              "4  709106358               1            40  ...      0.0        0.0         0.0\n",
              "\n",
              "[5 rows x 36 columns]"
            ]
          },
          "metadata": {
            "tags": []
          },
          "execution_count": 16
        }
      ]
    },
    {
      "cell_type": "code",
      "metadata": {
        "colab": {
          "base_uri": "https://localhost:8080/"
        },
        "id": "T71gWg8X72Rx",
        "outputId": "fd0d88ac-a278-48c6-c3f3-0c0498b85c6a"
      },
      "source": [
        "df.info()"
      ],
      "execution_count": 17,
      "outputs": [
        {
          "output_type": "stream",
          "text": [
            "<class 'pandas.core.frame.DataFrame'>\n",
            "RangeIndex: 10127 entries, 0 to 10126\n",
            "Data columns (total 36 columns):\n",
            " #   Column                    Non-Null Count  Dtype  \n",
            "---  ------                    --------------  -----  \n",
            " 0   CLIENTNUM                 10127 non-null  int64  \n",
            " 1   Attrition_Flag            10127 non-null  int64  \n",
            " 2   Customer_Age              10127 non-null  int64  \n",
            " 3   Gender                    10127 non-null  int64  \n",
            " 4   Dependent_count           10127 non-null  int64  \n",
            " 5   Education_Level           10127 non-null  object \n",
            " 6   Marital_Status            10127 non-null  object \n",
            " 7   Income_Category           10127 non-null  int64  \n",
            " 8   Card_Category             10127 non-null  object \n",
            " 9   Months_on_book            10127 non-null  int64  \n",
            " 10  Total_Relationship_Count  10127 non-null  int64  \n",
            " 11  Months_Inactive_12_mon    10127 non-null  int64  \n",
            " 12  Contacts_Count_12_mon     10127 non-null  int64  \n",
            " 13  Credit_Limit              10127 non-null  float64\n",
            " 14  Total_Revolving_Bal       10127 non-null  int64  \n",
            " 15  Avg_Open_To_Buy           10127 non-null  float64\n",
            " 16  Total_Amt_Chng_Q4_Q1      10127 non-null  float64\n",
            " 17  Total_Trans_Amt           10127 non-null  int64  \n",
            " 18  Total_Trans_Ct            10127 non-null  int64  \n",
            " 19  Total_Ct_Chng_Q4_Q1       10127 non-null  float64\n",
            " 20  Avg_Utilization_Ratio     10127 non-null  float64\n",
            " 21  (High School,)            10127 non-null  float64\n",
            " 22  (Graduate,)               10127 non-null  float64\n",
            " 23  (Uneducated,)             10127 non-null  float64\n",
            " 24  (Unknown,)                10127 non-null  float64\n",
            " 25  (College,)                10127 non-null  float64\n",
            " 26  (Post-Graduate,)          10127 non-null  float64\n",
            " 27  (Doctorate,)              10127 non-null  float64\n",
            " 28  (Married,)                10127 non-null  float64\n",
            " 29  (Single,)                 10127 non-null  float64\n",
            " 30  (Unknown,)                10127 non-null  float64\n",
            " 31  (Divorced,)               10127 non-null  float64\n",
            " 32  (Blue,)                   10127 non-null  float64\n",
            " 33  (Gold,)                   10127 non-null  float64\n",
            " 34  (Silver,)                 10127 non-null  float64\n",
            " 35  (Platinum,)               10127 non-null  float64\n",
            "dtypes: float64(20), int64(13), object(3)\n",
            "memory usage: 2.8+ MB\n"
          ],
          "name": "stdout"
        }
      ]
    },
    {
      "cell_type": "code",
      "metadata": {
        "id": "ID_1To2z8GLy"
      },
      "source": [
        "df1=df.iloc[:, :24]\n",
        "df2=df.iloc[:, 25:30]\n",
        "df3=df.iloc[:, 31:]\n",
        "df_final = pd.concat([df1, df2, df3], axis = 1)"
      ],
      "execution_count": 18,
      "outputs": []
    },
    {
      "cell_type": "code",
      "metadata": {
        "colab": {
          "base_uri": "https://localhost:8080/"
        },
        "id": "UzxjCL5p8s98",
        "outputId": "f3cb211d-b2e2-41fc-9f90-6ada215b0e91"
      },
      "source": [
        "df_final.columns"
      ],
      "execution_count": 19,
      "outputs": [
        {
          "output_type": "execute_result",
          "data": {
            "text/plain": [
              "Index([               'CLIENTNUM',           'Attrition_Flag',\n",
              "                   'Customer_Age',                   'Gender',\n",
              "                'Dependent_count',          'Education_Level',\n",
              "                 'Marital_Status',          'Income_Category',\n",
              "                  'Card_Category',           'Months_on_book',\n",
              "       'Total_Relationship_Count',   'Months_Inactive_12_mon',\n",
              "          'Contacts_Count_12_mon',             'Credit_Limit',\n",
              "            'Total_Revolving_Bal',          'Avg_Open_To_Buy',\n",
              "           'Total_Amt_Chng_Q4_Q1',          'Total_Trans_Amt',\n",
              "                 'Total_Trans_Ct',      'Total_Ct_Chng_Q4_Q1',\n",
              "          'Avg_Utilization_Ratio',           ('High School',),\n",
              "                    ('Graduate',),            ('Uneducated',),\n",
              "                     ('College',),         ('Post-Graduate',),\n",
              "                   ('Doctorate',),               ('Married',),\n",
              "                      ('Single',),              ('Divorced',),\n",
              "                        ('Blue',),                  ('Gold',),\n",
              "                      ('Silver',),              ('Platinum',)],\n",
              "      dtype='object')"
            ]
          },
          "metadata": {
            "tags": []
          },
          "execution_count": 19
        }
      ]
    },
    {
      "cell_type": "code",
      "metadata": {
        "colab": {
          "base_uri": "https://localhost:8080/"
        },
        "id": "jWjeXcIf8upP",
        "outputId": "9719ac67-22bc-4218-8e89-af26e9679c29"
      },
      "source": [
        "X = df_final.drop(columns=categories).drop(columns=['Attrition_Flag']).drop(columns=['CLIENTNUM'])\n",
        "y = df_final['Attrition_Flag']\n",
        "X.info()\n",
        "y.shape"
      ],
      "execution_count": 21,
      "outputs": [
        {
          "output_type": "stream",
          "text": [
            "<class 'pandas.core.frame.DataFrame'>\n",
            "RangeIndex: 10127 entries, 0 to 10126\n",
            "Data columns (total 29 columns):\n",
            " #   Column                    Non-Null Count  Dtype  \n",
            "---  ------                    --------------  -----  \n",
            " 0   Customer_Age              10127 non-null  int64  \n",
            " 1   Gender                    10127 non-null  int64  \n",
            " 2   Dependent_count           10127 non-null  int64  \n",
            " 3   Income_Category           10127 non-null  int64  \n",
            " 4   Months_on_book            10127 non-null  int64  \n",
            " 5   Total_Relationship_Count  10127 non-null  int64  \n",
            " 6   Months_Inactive_12_mon    10127 non-null  int64  \n",
            " 7   Contacts_Count_12_mon     10127 non-null  int64  \n",
            " 8   Credit_Limit              10127 non-null  float64\n",
            " 9   Total_Revolving_Bal       10127 non-null  int64  \n",
            " 10  Avg_Open_To_Buy           10127 non-null  float64\n",
            " 11  Total_Amt_Chng_Q4_Q1      10127 non-null  float64\n",
            " 12  Total_Trans_Amt           10127 non-null  int64  \n",
            " 13  Total_Trans_Ct            10127 non-null  int64  \n",
            " 14  Total_Ct_Chng_Q4_Q1       10127 non-null  float64\n",
            " 15  Avg_Utilization_Ratio     10127 non-null  float64\n",
            " 16  (High School,)            10127 non-null  float64\n",
            " 17  (Graduate,)               10127 non-null  float64\n",
            " 18  (Uneducated,)             10127 non-null  float64\n",
            " 19  (College,)                10127 non-null  float64\n",
            " 20  (Post-Graduate,)          10127 non-null  float64\n",
            " 21  (Doctorate,)              10127 non-null  float64\n",
            " 22  (Married,)                10127 non-null  float64\n",
            " 23  (Single,)                 10127 non-null  float64\n",
            " 24  (Divorced,)               10127 non-null  float64\n",
            " 25  (Blue,)                   10127 non-null  float64\n",
            " 26  (Gold,)                   10127 non-null  float64\n",
            " 27  (Silver,)                 10127 non-null  float64\n",
            " 28  (Platinum,)               10127 non-null  float64\n",
            "dtypes: float64(18), int64(11)\n",
            "memory usage: 2.2 MB\n"
          ],
          "name": "stdout"
        },
        {
          "output_type": "execute_result",
          "data": {
            "text/plain": [
              "(10127,)"
            ]
          },
          "metadata": {
            "tags": []
          },
          "execution_count": 21
        }
      ]
    },
    {
      "cell_type": "markdown",
      "metadata": {
        "id": "ifMJBOW7CQyV"
      },
      "source": [
        "Split Data"
      ]
    },
    {
      "cell_type": "code",
      "metadata": {
        "id": "_n_BXI5x-X9R"
      },
      "source": [
        "from sklearn.model_selection import train_test_split\n",
        "X_train, X_test, y_train, y_test = train_test_split(X, y, test_size = 0.33, random_state=31)"
      ],
      "execution_count": 23,
      "outputs": []
    },
    {
      "cell_type": "code",
      "metadata": {
        "id": "uEVChEs1CgFE"
      },
      "source": [
        "#Define scoring metrics: Precision on class 0\n",
        "from sklearn.metrics import recall_score, accuracy_score, make_scorer\n",
        "custom_recall = make_scorer(recall_score, pos_label = 0)"
      ],
      "execution_count": 24,
      "outputs": []
    },
    {
      "cell_type": "markdown",
      "metadata": {
        "id": "eSsv45KhCzy9"
      },
      "source": [
        "Build model"
      ]
    },
    {
      "cell_type": "code",
      "metadata": {
        "id": "TZ-BCFe3Cq97"
      },
      "source": [
        "#Build XGB model\n",
        "from xgboost import XGBClassifier"
      ],
      "execution_count": 25,
      "outputs": []
    },
    {
      "cell_type": "code",
      "metadata": {
        "id": "ZP4xYHzoC7l2"
      },
      "source": [
        "Test_score = []\n",
        "Train_score = []\n",
        "n_estimators = [100,200,300,400,500,600,700,800,900,1000]\n",
        "\n",
        "for n_est in n_estimators:\n",
        "  xgb = XGBClassifier(objective='binary:logistic', learning_rate=0.1, n_estimators=n_est)\n",
        "  xgb.fit(X_train, y_train)\n",
        "  y_train_pred = xgb.predict(X_train)\n",
        "  Train_score.append(recall_score(y_train, y_train_pred, pos_label=0))\n",
        "  y_test_pred = xgb.predict(X_test)\n",
        "  Test_score.append(recall_score(y_test, y_test_pred, pos_label=0))"
      ],
      "execution_count": 26,
      "outputs": []
    },
    {
      "cell_type": "code",
      "metadata": {
        "colab": {
          "base_uri": "https://localhost:8080/",
          "height": 487
        },
        "id": "LsCeo-jBDmhV",
        "outputId": "984ddff2-9508-4cc7-be67-ab44d636c5b2"
      },
      "source": [
        "fig, ax = plt.subplots(figsize=(12,8))\n",
        "ax.plot(Train_score)\n",
        "ax.plot(Test_score, c = 'red')\n",
        "ax.set_xticklabels(n_estimators)\n",
        "ax.set_ylim(0.8, 1.1)\n",
        "plt.show()"
      ],
      "execution_count": 28,
      "outputs": [
        {
          "output_type": "display_data",
          "data": {
            "image/png": "[encoded data removed]",
            "text/plain": [
              "<Figure size 864x576 with 1 Axes>"
            ]
          },
          "metadata": {
            "tags": [],
            "needs_background": "light"
          }
        }
      ]
    },
    {
      "cell_type": "code",
      "metadata": {
        "colab": {
          "base_uri": "https://localhost:8080/",
          "height": 487
        },
        "id": "VnOmCDHQEClk",
        "outputId": "444e2f9c-b1ac-4100-f62f-ed91315885f3"
      },
      "source": [
        "Test_score = []\n",
        "Train_score = []\n",
        "learning_rate = list(np.linspace(0.05, 0.25, 10))\n",
        "\n",
        "for lr in learning_rate:\n",
        "  xgb = XGBClassifier(objective='binary:logistic', learning_rate = lr, n_estimators = 400)\n",
        "  xgb.fit(X_train, y_train)\n",
        "  y_train_pred = xgb.predict(X_train)\n",
        "  Train_score.append(recall_score(y_train, y_train_pred, pos_label=0))\n",
        "  y_test_pred = xgb.predict(X_test)\n",
        "  Test_score.append(recall_score(y_test, y_test_pred, pos_label=0))\n",
        "\n",
        "fig, ax = plt.subplots(figsize=(12,8))\n",
        "ax.plot(Train_score)\n",
        "ax.plot(Test_score, c = 'red')\n",
        "ax.set_xticklabels(learning_rate)\n",
        "ax.set_ylim(0.8,1.1)\n",
        "plt.show()"
      ],
      "execution_count": 29,
      "outputs": [
        {
          "output_type": "display_data",
          "data": {
            "image/png": "[encoded data removed]",
            "text/plain": [
              "<Figure size 864x576 with 1 Axes>"
            ]
          },
          "metadata": {
            "tags": [],
            "needs_background": "light"
          }
        }
      ]
    },
    {
      "cell_type": "code",
      "metadata": {
        "id": "cBycKymmFnyS"
      },
      "source": [
        "xgb = XGBClassifier(objective='binary:logistic', learning_rate=0.1225, n_estimators=400)"
      ],
      "execution_count": 30,
      "outputs": []
    },
    {
      "cell_type": "markdown",
      "metadata": {
        "id": "akZV68ZUGPgV"
      },
      "source": [
        "Parameter tuning"
      ]
    },
    {
      "cell_type": "code",
      "metadata": {
        "id": "Fu5sgXA1GNp3"
      },
      "source": [
        "#Build ParamsGrid\n",
        "params = {\n",
        "    'max_depth': [2, 3, 4],\n",
        "    'subsample': [0.5, 0.65, 0.8],\n",
        "    'colsample_bytree':[0.1,0.4,0.7],\n",
        "    'lambda':[0.3, 0.5, 0.7, 0.9]\n",
        "}"
      ],
      "execution_count": 31,
      "outputs": []
    },
    {
      "cell_type": "code",
      "metadata": {
        "colab": {
          "base_uri": "https://localhost:8080/"
        },
        "id": "xmBgcMGcGqnu",
        "outputId": "91a6cb9a-d70d-4adb-c301-e13ff802d278"
      },
      "source": [
        "#RandomSearchCV\n",
        "from sklearn.model_selection import RandomizedSearchCV\n",
        "\n",
        "clf = RandomizedSearchCV(estimator=xgb, param_distributions=params, cv=5, scoring=custom_recall, return_train_score=True)\n",
        "clf.fit(X_train, y_train)"
      ],
      "execution_count": 32,
      "outputs": [
        {
          "output_type": "execute_result",
          "data": {
            "text/plain": [
              "RandomizedSearchCV(cv=5, error_score=nan,\n",
              "                   estimator=XGBClassifier(base_score=0.5, booster='gbtree',\n",
              "                                           colsample_bylevel=1,\n",
              "                                           colsample_bynode=1,\n",
              "                                           colsample_bytree=1, gamma=0,\n",
              "                                           learning_rate=0.1225,\n",
              "                                           max_delta_step=0, max_depth=3,\n",
              "                                           min_child_weight=1, missing=None,\n",
              "                                           n_estimators=400, n_jobs=1,\n",
              "                                           nthread=None,\n",
              "                                           objective='binary:logistic',\n",
              "                                           random_state=0, reg_alpha=0,\n",
              "                                           reg_lambda=1...1,\n",
              "                                           seed=None, silent=None, subsample=1,\n",
              "                                           verbosity=1),\n",
              "                   iid='deprecated', n_iter=10, n_jobs=None,\n",
              "                   param_distributions={'colsample_bytree': [0.1, 0.4, 0.7],\n",
              "                                        'lambda': [0.3, 0.5, 0.7, 0.9],\n",
              "                                        'max_depth': [2, 3, 4],\n",
              "                                        'subsample': [0.5, 0.65, 0.8]},\n",
              "                   pre_dispatch='2*n_jobs', random_state=None, refit=True,\n",
              "                   return_train_score=True,\n",
              "                   scoring=make_scorer(recall_score, pos_label=0), verbose=0)"
            ]
          },
          "metadata": {
            "tags": []
          },
          "execution_count": 32
        }
      ]
    },
    {
      "cell_type": "code",
      "metadata": {
        "colab": {
          "base_uri": "https://localhost:8080/"
        },
        "id": "3edWy5pQHE8F",
        "outputId": "8080898c-3100-4c46-a458-ba2187344d97"
      },
      "source": [
        "clf.best_params_"
      ],
      "execution_count": 33,
      "outputs": [
        {
          "output_type": "execute_result",
          "data": {
            "text/plain": [
              "{'colsample_bytree': 0.7, 'lambda': 0.7, 'max_depth': 3, 'subsample': 0.8}"
            ]
          },
          "metadata": {
            "tags": []
          },
          "execution_count": 33
        }
      ]
    },
    {
      "cell_type": "code",
      "metadata": {
        "colab": {
          "base_uri": "https://localhost:8080/"
        },
        "id": "dQt0yQqJHldv",
        "outputId": "fefb4267-53fb-40b9-f0b1-12877d040f22"
      },
      "source": [
        "clf.cv_results_"
      ],
      "execution_count": 34,
      "outputs": [
        {
          "output_type": "execute_result",
          "data": {
            "text/plain": [
              "{'mean_fit_time': array([0.7947772 , 1.97389212, 2.75962515, 0.94406934, 1.15334911,\n",
              "        0.99673276, 2.01136904, 2.20705585, 0.83656306, 1.15093908]),\n",
              " 'mean_score_time': array([0.0182219 , 0.03125801, 0.03104906, 0.02375984, 0.018467  ,\n",
              "        0.029141  , 0.02476592, 0.02436624, 0.0182374 , 0.01844988]),\n",
              " 'mean_test_score': array([0.78103362, 0.87864259, 0.87682026, 0.81023661, 0.86952677,\n",
              "        0.81387298, 0.88503944, 0.8777252 , 0.77922374, 0.86952677]),\n",
              " 'mean_train_score': array([0.852419  , 1.        , 1.        , 0.89986307, 0.93864097,\n",
              "        0.9447991 , 0.9942977 , 0.99270135, 0.84010116, 0.93864097]),\n",
              " 'param_colsample_bytree': masked_array(data=[0.1, 0.4, 0.7, 0.1, 0.4, 0.1, 0.7, 0.7, 0.1, 0.4],\n",
              "              mask=[False, False, False, False, False, False, False, False,\n",
              "                    False, False],\n",
              "        fill_value='?',\n",
              "             dtype=object),\n",
              " 'param_lambda': masked_array(data=[0.9, 0.3, 0.7, 0.9, 0.5, 0.7, 0.7, 0.9, 0.3, 0.3],\n",
              "              mask=[False, False, False, False, False, False, False, False,\n",
              "                    False, False],\n",
              "        fill_value='?',\n",
              "             dtype=object),\n",
              " 'param_max_depth': masked_array(data=[2, 4, 4, 3, 2, 4, 3, 3, 2, 2],\n",
              "              mask=[False, False, False, False, False, False, False, False,\n",
              "                    False, False],\n",
              "        fill_value='?',\n",
              "             dtype=object),\n",
              " 'param_subsample': masked_array(data=[0.8, 0.65, 0.65, 0.65, 0.8, 0.8, 0.8, 0.5, 0.5, 0.8],\n",
              "              mask=[False, False, False, False, False, False, False, False,\n",
              "                    False, False],\n",
              "        fill_value='?',\n",
              "             dtype=object),\n",
              " 'params': [{'colsample_bytree': 0.1,\n",
              "   'lambda': 0.9,\n",
              "   'max_depth': 2,\n",
              "   'subsample': 0.8},\n",
              "  {'colsample_bytree': 0.4, 'lambda': 0.3, 'max_depth': 4, 'subsample': 0.65},\n",
              "  {'colsample_bytree': 0.7, 'lambda': 0.7, 'max_depth': 4, 'subsample': 0.65},\n",
              "  {'colsample_bytree': 0.1, 'lambda': 0.9, 'max_depth': 3, 'subsample': 0.65},\n",
              "  {'colsample_bytree': 0.4, 'lambda': 0.5, 'max_depth': 2, 'subsample': 0.8},\n",
              "  {'colsample_bytree': 0.1, 'lambda': 0.7, 'max_depth': 4, 'subsample': 0.8},\n",
              "  {'colsample_bytree': 0.7, 'lambda': 0.7, 'max_depth': 3, 'subsample': 0.8},\n",
              "  {'colsample_bytree': 0.7, 'lambda': 0.9, 'max_depth': 3, 'subsample': 0.5},\n",
              "  {'colsample_bytree': 0.1, 'lambda': 0.3, 'max_depth': 2, 'subsample': 0.5},\n",
              "  {'colsample_bytree': 0.4, 'lambda': 0.3, 'max_depth': 2, 'subsample': 0.8}],\n",
              " 'rank_test_score': array([ 9,  2,  4,  8,  5,  7,  1,  3, 10,  5], dtype=int32),\n",
              " 'split0_test_score': array([0.80821918, 0.89041096, 0.90410959, 0.81278539, 0.89954338,\n",
              "        0.82648402, 0.90410959, 0.89041096, 0.79908676, 0.89954338]),\n",
              " 'split0_train_score': array([0.84492588, 1.        , 1.        , 0.89623717, 0.9350057 ,\n",
              "        0.94184721, 0.99201824, 0.99087799, 0.83352338, 0.9350057 ]),\n",
              " 'split1_test_score': array([0.78082192, 0.89041096, 0.89041096, 0.83561644, 0.88127854,\n",
              "        0.81278539, 0.89497717, 0.89041096, 0.79452055, 0.88127854]),\n",
              " 'split1_train_score': array([0.84834664, 1.        , 1.        , 0.90193843, 0.94070696,\n",
              "        0.95210946, 0.995439  , 0.99315849, 0.84150513, 0.94070696]),\n",
              " 'split2_test_score': array([0.76255708, 0.86757991, 0.85388128, 0.79452055, 0.85844749,\n",
              "        0.80821918, 0.89041096, 0.85388128, 0.76712329, 0.85844749]),\n",
              " 'split2_train_score': array([0.85632839, 1.        , 1.        , 0.90079818, 0.94070696,\n",
              "        0.9395667 , 0.995439  , 0.99315849, 0.84264538, 0.94070696]),\n",
              " 'split3_test_score': array([0.78538813, 0.85844749, 0.85388128, 0.8173516 , 0.84018265,\n",
              "        0.81278539, 0.85388128, 0.8630137 , 0.78538813, 0.84018265]),\n",
              " 'split3_train_score': array([0.85518814, 1.        , 1.        , 0.90079818, 0.93614595,\n",
              "        0.94640821, 0.99315849, 0.99087799, 0.83922463, 0.93614595]),\n",
              " 'split4_test_score': array([0.76818182, 0.88636364, 0.88181818, 0.79090909, 0.86818182,\n",
              "        0.80909091, 0.88181818, 0.89090909, 0.75      , 0.86818182]),\n",
              " 'split4_train_score': array([0.85730594, 1.        , 1.        , 0.89954338, 0.94063927,\n",
              "        0.94406393, 0.99543379, 0.99543379, 0.84360731, 0.94063927]),\n",
              " 'std_fit_time': array([0.0063187 , 0.00797916, 0.00991428, 0.01008583, 0.00443932,\n",
              "        0.00770201, 0.01337979, 0.00686384, 0.00361159, 0.00807115]),\n",
              " 'std_score_time': array([0.00022321, 0.00132667, 0.00082647, 0.00023231, 0.0002534 ,\n",
              "        0.00051451, 0.0005556 , 0.00015681, 0.00030419, 0.00020508]),\n",
              " 'std_test_score': array([0.01590354, 0.01316684, 0.02003391, 0.01625917, 0.02012331,\n",
              "        0.00657629, 0.01716094, 0.01600395, 0.01825913, 0.02012331]),\n",
              " 'std_train_score': array([0.00489008, 0.        , 0.        , 0.00196496, 0.00252864,\n",
              "        0.00430495, 0.00144149, 0.0017049 , 0.00359924, 0.00252864])}"
            ]
          },
          "metadata": {
            "tags": []
          },
          "execution_count": 34
        }
      ]
    },
    {
      "cell_type": "markdown",
      "metadata": {
        "id": "jHN9Ra55H7DT"
      },
      "source": [
        "Evaluation"
      ]
    },
    {
      "cell_type": "code",
      "metadata": {
        "id": "SAlvr39uHt5V"
      },
      "source": [
        "y_test_pred = clf.best_estimator_.predict(X_test)"
      ],
      "execution_count": 35,
      "outputs": []
    },
    {
      "cell_type": "code",
      "metadata": {
        "colab": {
          "base_uri": "https://localhost:8080/"
        },
        "id": "G1NqTT1nH_r1",
        "outputId": "504faa90-c448-47fe-9335-5f0ecacb1f3a"
      },
      "source": [
        "recall_score(y_test,y_test_pred, pos_label=0)"
      ],
      "execution_count": 36,
      "outputs": [
        {
          "output_type": "execute_result",
          "data": {
            "text/plain": [
              "0.9020715630885122"
            ]
          },
          "metadata": {
            "tags": []
          },
          "execution_count": 36
        }
      ]
    },
    {
      "cell_type": "code",
      "metadata": {
        "colab": {
          "base_uri": "https://localhost:8080/"
        },
        "id": "tGOpUrJkIEcd",
        "outputId": "9ff4d9af-b30a-4274-ee0a-74c40bbc30ea"
      },
      "source": [
        "accuracy_score(y_test,y_test_pred)"
      ],
      "execution_count": 37,
      "outputs": [
        {
          "output_type": "execute_result",
          "data": {
            "text/plain": [
              "0.9721723518850988"
            ]
          },
          "metadata": {
            "tags": []
          },
          "execution_count": 37
        }
      ]
    },
    {
      "cell_type": "code",
      "metadata": {
        "id": "wRlY2qHmIICX"
      },
      "source": [
        ""
      ],
      "execution_count": null,
      "outputs": []
    }
  ]
}